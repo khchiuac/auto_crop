{
 "cells": [
  {
   "cell_type": "markdown",
   "metadata": {},
   "source": [
    "Use opencv for cropping, simple function"
   ]
  },
  {
   "cell_type": "code",
   "execution_count": 18,
   "metadata": {},
   "outputs": [],
   "source": [
    "import cv2, random\n",
    "import numpy as np"
   ]
  },
  {
   "cell_type": "code",
   "execution_count": 19,
   "metadata": {},
   "outputs": [],
   "source": [
    "def autoCrop(input_path, output_path=\"segment/{}.jpg\", option=\"cropped\", gaussian_size=9, canny_min=0, canny_max=100, dilation_size=25, approx_proportion=0.25, height_thresh_proportion=0.1, width_thresh_proportion=0.1, resize_factor=1):\n",
    "    img = cv2.imread(input_path,1)\n",
    "    img_1 = cv2.cv2.copyMakeBorder(img,0,0,0,0,cv2.BORDER_REPLICATE)\n",
    "    img_2 = cv2.cv2.copyMakeBorder(img,0,0,0,0,cv2.BORDER_REPLICATE)\n",
    "    \n",
    "    # Gussian Blur\n",
    "    blur = cv2.GaussianBlur(img, (gaussian_size, gaussian_size), 0)\n",
    "    # Canny Edge Detection\n",
    "    edged = cv2.Canny(blur, canny_min, canny_max)\n",
    "    # dialation\n",
    "    dilated = cv2.dilate(edged, np.ones((dilation_size, dilation_size)))\n",
    "    # find contours\n",
    "    contours, hierarchy = cv2.findContours(dilated, cv2.RETR_EXTERNAL, cv2.CHAIN_APPROX_SIMPLE)\n",
    "    # draw contour\n",
    "    img_1 = cv2.drawContours(img_1, contours, -1, (0,255,0), 3) # in green\n",
    "    for i, contour in enumerate(contours):\n",
    "        perimeter = cv2.arcLength(contour, True)\n",
    "        approx = cv2.approxPolyDP(contour, approx_proportion*perimeter, True)\n",
    "        if (len(approx)!=4): # rule out not rectangles\n",
    "            rect = cv2.boundingRect(contour)\n",
    "            x, y, w, h = [r*resize_factor for r in rect]\n",
    "            if (w>width_thresh_proportion*img_2.shape[1] and h>height_thresh_proportion*img_2.shape[0]):\n",
    "                cv2.rectangle(img_2, (x,y), ((x+w), (y+h)), (0, 0, 255), 10) # in red\n",
    "                crop_img = img[y:y+h, x:x+w]\n",
    "                cv2.imwrite(output_path.format(i), crop_img)"
   ]
  },
  {
   "cell_type": "code",
   "execution_count": 20,
   "metadata": {},
   "outputs": [],
   "source": [
    "autoCrop('pic/21-43-11/56b0183fdbff00aed3f9d0e369184128-1.png')"
   ]
  },
  {
   "cell_type": "code",
   "execution_count": null,
   "metadata": {},
   "outputs": [],
   "source": []
  }
 ],
 "metadata": {
  "kernelspec": {
   "display_name": "Python 3",
   "language": "python",
   "name": "python3"
  },
  "language_info": {
   "codemirror_mode": {
    "name": "ipython",
    "version": 3
   },
   "file_extension": ".py",
   "mimetype": "text/x-python",
   "name": "python",
   "nbconvert_exporter": "python",
   "pygments_lexer": "ipython3",
   "version": "3.7.4"
  }
 },
 "nbformat": 4,
 "nbformat_minor": 4
}
